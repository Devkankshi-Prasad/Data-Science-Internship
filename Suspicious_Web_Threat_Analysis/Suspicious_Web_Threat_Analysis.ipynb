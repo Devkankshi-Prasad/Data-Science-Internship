{
 "cells": [
  {
   "cell_type": "markdown",
   "id": "70f1d3bc",
   "metadata": {},
   "source": [
    "# 🚨 Cybersecurity Project: Suspicious Web Threat Interaction Detection\n",
    "**📅 Date**: 12/54/5647\n",
    "**👤Author**: Devkankshi Prasad\n",
    "**🏢Internship Project**\n",
    "\n",
    "### 🎯 Objective\n",
    "This project aims to develop an intelligent threat detection system using machine learning and deep learning techniques to classify suspicious web interactions based on AWS CloudWatch logs. \n",
    "\n",
    "---"
   ]
  },
  {
   "cell_type": "markdown",
   "id": "a61afd15",
   "metadata": {},
   "source": [
    "## 📥 Load and Preview the Dataset\n",
    "We begin by importing essential libraries and loading the dataset. This helps us understand the structure, types of data, and if any immediate cleaning is necessary.\n"
   ]
  },
  {
   "cell_type": "code",
   "execution_count": 19,
   "id": "da0e2a57",
   "metadata": {},
   "outputs": [
    {
     "data": {
      "text/html": [
       "<div>\n",
       "<style scoped>\n",
       "    .dataframe tbody tr th:only-of-type {\n",
       "        vertical-align: middle;\n",
       "    }\n",
       "\n",
       "    .dataframe tbody tr th {\n",
       "        vertical-align: top;\n",
       "    }\n",
       "\n",
       "    .dataframe thead th {\n",
       "        text-align: right;\n",
       "    }\n",
       "</style>\n",
       "<table border=\"1\" class=\"dataframe\">\n",
       "  <thead>\n",
       "    <tr style=\"text-align: right;\">\n",
       "      <th></th>\n",
       "      <th>bytes_in</th>\n",
       "      <th>bytes_out</th>\n",
       "      <th>creation_time</th>\n",
       "      <th>end_time</th>\n",
       "      <th>src_ip</th>\n",
       "      <th>src_ip_country_code</th>\n",
       "      <th>protocol</th>\n",
       "      <th>response.code</th>\n",
       "      <th>dst_port</th>\n",
       "      <th>dst_ip</th>\n",
       "      <th>rule_names</th>\n",
       "      <th>observation_name</th>\n",
       "      <th>source.meta</th>\n",
       "      <th>source.name</th>\n",
       "      <th>time</th>\n",
       "      <th>detection_types</th>\n",
       "    </tr>\n",
       "  </thead>\n",
       "  <tbody>\n",
       "    <tr>\n",
       "      <th>0</th>\n",
       "      <td>5602</td>\n",
       "      <td>12990</td>\n",
       "      <td>2024-04-25T23:00:00Z</td>\n",
       "      <td>2024-04-25T23:10:00Z</td>\n",
       "      <td>147.161.161.82</td>\n",
       "      <td>AE</td>\n",
       "      <td>HTTPS</td>\n",
       "      <td>200</td>\n",
       "      <td>443</td>\n",
       "      <td>10.138.69.97</td>\n",
       "      <td>Suspicious Web Traffic</td>\n",
       "      <td>Adversary Infrastructure Interaction</td>\n",
       "      <td>AWS_VPC_Flow</td>\n",
       "      <td>prod_webserver</td>\n",
       "      <td>2024-04-25T23:00:00Z</td>\n",
       "      <td>waf_rule</td>\n",
       "    </tr>\n",
       "    <tr>\n",
       "      <th>1</th>\n",
       "      <td>30912</td>\n",
       "      <td>18186</td>\n",
       "      <td>2024-04-25T23:00:00Z</td>\n",
       "      <td>2024-04-25T23:10:00Z</td>\n",
       "      <td>165.225.33.6</td>\n",
       "      <td>US</td>\n",
       "      <td>HTTPS</td>\n",
       "      <td>200</td>\n",
       "      <td>443</td>\n",
       "      <td>10.138.69.97</td>\n",
       "      <td>Suspicious Web Traffic</td>\n",
       "      <td>Adversary Infrastructure Interaction</td>\n",
       "      <td>AWS_VPC_Flow</td>\n",
       "      <td>prod_webserver</td>\n",
       "      <td>2024-04-25T23:00:00Z</td>\n",
       "      <td>waf_rule</td>\n",
       "    </tr>\n",
       "    <tr>\n",
       "      <th>2</th>\n",
       "      <td>28506</td>\n",
       "      <td>13468</td>\n",
       "      <td>2024-04-25T23:00:00Z</td>\n",
       "      <td>2024-04-25T23:10:00Z</td>\n",
       "      <td>165.225.212.255</td>\n",
       "      <td>CA</td>\n",
       "      <td>HTTPS</td>\n",
       "      <td>200</td>\n",
       "      <td>443</td>\n",
       "      <td>10.138.69.97</td>\n",
       "      <td>Suspicious Web Traffic</td>\n",
       "      <td>Adversary Infrastructure Interaction</td>\n",
       "      <td>AWS_VPC_Flow</td>\n",
       "      <td>prod_webserver</td>\n",
       "      <td>2024-04-25T23:00:00Z</td>\n",
       "      <td>waf_rule</td>\n",
       "    </tr>\n",
       "    <tr>\n",
       "      <th>3</th>\n",
       "      <td>30546</td>\n",
       "      <td>14278</td>\n",
       "      <td>2024-04-25T23:00:00Z</td>\n",
       "      <td>2024-04-25T23:10:00Z</td>\n",
       "      <td>136.226.64.114</td>\n",
       "      <td>US</td>\n",
       "      <td>HTTPS</td>\n",
       "      <td>200</td>\n",
       "      <td>443</td>\n",
       "      <td>10.138.69.97</td>\n",
       "      <td>Suspicious Web Traffic</td>\n",
       "      <td>Adversary Infrastructure Interaction</td>\n",
       "      <td>AWS_VPC_Flow</td>\n",
       "      <td>prod_webserver</td>\n",
       "      <td>2024-04-25T23:00:00Z</td>\n",
       "      <td>waf_rule</td>\n",
       "    </tr>\n",
       "    <tr>\n",
       "      <th>4</th>\n",
       "      <td>6526</td>\n",
       "      <td>13892</td>\n",
       "      <td>2024-04-25T23:00:00Z</td>\n",
       "      <td>2024-04-25T23:10:00Z</td>\n",
       "      <td>165.225.240.79</td>\n",
       "      <td>NL</td>\n",
       "      <td>HTTPS</td>\n",
       "      <td>200</td>\n",
       "      <td>443</td>\n",
       "      <td>10.138.69.97</td>\n",
       "      <td>Suspicious Web Traffic</td>\n",
       "      <td>Adversary Infrastructure Interaction</td>\n",
       "      <td>AWS_VPC_Flow</td>\n",
       "      <td>prod_webserver</td>\n",
       "      <td>2024-04-25T23:00:00Z</td>\n",
       "      <td>waf_rule</td>\n",
       "    </tr>\n",
       "  </tbody>\n",
       "</table>\n",
       "</div>"
      ],
      "text/plain": [
       "   bytes_in  bytes_out         creation_time              end_time  \\\n",
       "0      5602      12990  2024-04-25T23:00:00Z  2024-04-25T23:10:00Z   \n",
       "1     30912      18186  2024-04-25T23:00:00Z  2024-04-25T23:10:00Z   \n",
       "2     28506      13468  2024-04-25T23:00:00Z  2024-04-25T23:10:00Z   \n",
       "3     30546      14278  2024-04-25T23:00:00Z  2024-04-25T23:10:00Z   \n",
       "4      6526      13892  2024-04-25T23:00:00Z  2024-04-25T23:10:00Z   \n",
       "\n",
       "            src_ip src_ip_country_code protocol  response.code  dst_port  \\\n",
       "0   147.161.161.82                  AE    HTTPS            200       443   \n",
       "1     165.225.33.6                  US    HTTPS            200       443   \n",
       "2  165.225.212.255                  CA    HTTPS            200       443   \n",
       "3   136.226.64.114                  US    HTTPS            200       443   \n",
       "4   165.225.240.79                  NL    HTTPS            200       443   \n",
       "\n",
       "         dst_ip              rule_names                      observation_name  \\\n",
       "0  10.138.69.97  Suspicious Web Traffic  Adversary Infrastructure Interaction   \n",
       "1  10.138.69.97  Suspicious Web Traffic  Adversary Infrastructure Interaction   \n",
       "2  10.138.69.97  Suspicious Web Traffic  Adversary Infrastructure Interaction   \n",
       "3  10.138.69.97  Suspicious Web Traffic  Adversary Infrastructure Interaction   \n",
       "4  10.138.69.97  Suspicious Web Traffic  Adversary Infrastructure Interaction   \n",
       "\n",
       "    source.meta     source.name                  time detection_types  \n",
       "0  AWS_VPC_Flow  prod_webserver  2024-04-25T23:00:00Z        waf_rule  \n",
       "1  AWS_VPC_Flow  prod_webserver  2024-04-25T23:00:00Z        waf_rule  \n",
       "2  AWS_VPC_Flow  prod_webserver  2024-04-25T23:00:00Z        waf_rule  \n",
       "3  AWS_VPC_Flow  prod_webserver  2024-04-25T23:00:00Z        waf_rule  \n",
       "4  AWS_VPC_Flow  prod_webserver  2024-04-25T23:00:00Z        waf_rule  "
      ]
     },
     "execution_count": 19,
     "metadata": {},
     "output_type": "execute_result"
    }
   ],
   "source": [
    "import pandas as pd\n",
    "import numpy as np\n",
    "import matplotlib.pyplot as plt\n",
    "import seaborn as sns\n",
    "import networkx as nx\n",
    "from sklearn.preprocessing import StandardScaler, OneHotEncoder\n",
    "from sklearn.model_selection import train_test_split\n",
    "from sklearn.ensemble import RandomForestClassifier, IsolationForest\n",
    "from sklearn.metrics import accuracy_score, classification_report\n",
    "import warnings\n",
    "warnings.filterwarnings('ignore')\n",
    "\n",
    "# Load dataset\n",
    "df = pd.read_csv('CloudWatch_Traffic_Web_Attack.csv')\n",
    "df.head()"
   ]
  },
  {
   "cell_type": "markdown",
   "id": "653fad72",
   "metadata": {},
   "source": [
    "## 🧼 Data Cleaning & Preprocessing\n",
    "This step includes:\n",
    "- Handling missing values\n",
    "- Converting data types (e.g., timestamps)\n",
    "- Normalizing and encoding features\n",
    "These are crucial to prepare data for effective model training.\n"
   ]
  },
  {
   "cell_type": "code",
   "execution_count": 20,
   "id": "bb376cc9",
   "metadata": {},
   "outputs": [],
   "source": [
    "# Drop duplicates and convert to datetime\n",
    "df = df.drop_duplicates()\n",
    "df['creation_time'] = pd.to_datetime(df['creation_time'])\n",
    "df['end_time'] = pd.to_datetime(df['end_time'])\n",
    "df['time'] = pd.to_datetime(df['time'])\n",
    "df['src_ip_country_code'] = df['src_ip_country_code'].str.upper()"
   ]
  },
  {
   "cell_type": "markdown",
   "id": "a21a3ad6",
   "metadata": {},
   "source": [
    "## 📊 Exploratory Data Analysis (EDA)\n",
    "In this phase, we visualize the data to:\n",
    "- Understand feature distributions\n",
    "- Identify class imbalances\n",
    "- Detect correlations or patterns\n",
    "This helps in feature selection and understanding dataset biases.\n"
   ]
  },
  {
   "cell_type": "markdown",
   "id": "e5afa50d",
   "metadata": {},
   "source": [
    "### 📊 Distribution of `bytes_in` and `bytes_out`\n",
    "This histogram visualizes the distribution of incoming (`bytes_in`) and outgoing (`bytes_out`) byte traffic across all network sessions. By plotting both on the same graph, we can identify skewness, ranges, and potential outliers in traffic. High byte transfers may be indicative of data exfiltration or abnormal user behavior. Understanding this distribution helps in spotting suspicious sessions or traffic anomalies.\n"
   ]
  },
  {
   "cell_type": "code",
   "execution_count": 21,
   "id": "84009b1b",
   "metadata": {},
   "outputs": [
    {
     "data": {
      "image/png": "[encoded data removed]",
      "text/plain": [
       "<Figure size 1200x600 with 1 Axes>"
      ]
     },
     "metadata": {},
     "output_type": "display_data"
    }
   ],
   "source": [
    "\n",
    "plt.figure(figsize=(12, 6))\n",
    "sns.histplot(df['bytes_in'], bins=50, kde=True, color='blue', label='Bytes In')\n",
    "sns.histplot(df['bytes_out'], bins=50, kde=True, color='red', label='Bytes Out')\n",
    "plt.legend()\n",
    "plt.title('Distribution of Bytes In and Bytes Out')\n",
    "plt.show()"
   ]
  },
  {
   "cell_type": "markdown",
   "id": "9a580c74",
   "metadata": {},
   "source": [
    "#### 🔍 What It Shows:\n",
    "This histogram visualizes the frequency distribution of incoming (`bytesin`) and outgoing (`bytesout`) network data across all requests.\n",
    "\n",
    "#### 📈 Why It Matters:\n",
    "- Helps identify **normal vs. abnormal traffic volumes**.\n",
    "- Spikes or long tails in the distribution could indicate **data exfiltration attempts** or **denial-of-service attacks**.\n",
    "- Useful for setting **thresholds** for anomaly detection.\n",
    "\n",
    "---\n"
   ]
  },
  {
   "cell_type": "markdown",
   "id": "07416d1b",
   "metadata": {},
   "source": [
    "### 📊 Count of Protocols Used\n",
    "This countplot shows how frequently each protocol appears in the dataset. Analyzing protocol usage is crucial because certain types (e.g., uncommon or deprecated protocols) may be exploited for malicious activities. A dominance of specific protocols can also indicate normal traffic baselines, aiding anomaly detection.\n"
   ]
  },
  {
   "cell_type": "code",
   "execution_count": 22,
   "id": "fdc3da0c",
   "metadata": {},
   "outputs": [
    {
     "data": {
      "image/png": "[encoded data removed]",
      "text/plain": [
       "<Figure size 1000x500 with 1 Axes>"
      ]
     },
     "metadata": {},
     "output_type": "display_data"
    }
   ],
   "source": [
    "\n",
    "plt.figure(figsize=(10, 5))\n",
    "sns.countplot(data=df, x='protocol', palette='viridis')\n",
    "plt.title('Protocol Count')\n",
    "plt.xticks(rotation=45)\n",
    "plt.show()"
   ]
  },
  {
   "cell_type": "markdown",
   "id": "32afc389",
   "metadata": {},
   "source": [
    "#### 📊 What It Shows:\n",
    "This countplot illustrates how frequently each network protocol appears in the dataset.\n",
    "\n",
    "#### ⚙️ Why It Matters:\n",
    "- Allows quick assessment of **commonly used protocols** (e.g., TCP, UDP).\n",
    "- Abnormally frequent or rare use of certain protocols can indicate **malicious scanning** or **exploitation behavior**.\n",
    "- Helps prioritize which protocols to monitor more closely in real-time systems.\n",
    "\n",
    "---\n"
   ]
  },
  {
   "cell_type": "markdown",
   "id": "eeed922e",
   "metadata": {},
   "source": [
    "## 🛠️ Feature Engineering\n",
    "We create new informative features like:\n",
    "- Time-based features from timestamps\n",
    "- Aggregations\n",
    "- Encodings\n",
    "These engineered features can improve the model's learning capacity.\n"
   ]
  },
  {
   "cell_type": "code",
   "execution_count": 23,
   "id": "0cdf155a",
   "metadata": {},
   "outputs": [],
   "source": [
    "\n",
    "df['session_duration'] = (df['end_time'] - df['creation_time']).dt.total_seconds()\n",
    "df['avg_packet_size'] = (df['bytes_in'] + df['bytes_out']) / df['session_duration']"
   ]
  },
  {
   "cell_type": "markdown",
   "id": "58ec047a",
   "metadata": {},
   "source": [
    "## ⚠️ Anomaly Detection using Isolation Forest\n",
    "We use the Isolation Forest algorithm to detect abnormal patterns that might indicate security threats. It helps in flagging unseen or novel attack behavior.\n"
   ]
  },
  {
   "cell_type": "code",
   "execution_count": 24,
   "id": "10080bce",
   "metadata": {},
   "outputs": [],
   "source": [
    "features = df[['bytes_in', 'bytes_out', 'session_duration', 'avg_packet_size']]\n",
    "model = IsolationForest(contamination=0.05, random_state=42)\n",
    "df['anomaly'] = model.fit_predict(features)\n",
    "df['anomaly'] = df['anomaly'].apply(lambda x: 'Suspicious' if x == -1 else 'Normal')"
   ]
  },
  {
   "cell_type": "markdown",
   "id": "b7c2671d",
   "metadata": {},
   "source": [
    "### 📉 Anomaly Distribution by Scatter Plot\n",
    "This scatter plot illustrates the presence of detected anomalies across selected features. Each point represents a network session, and color or shape (if applied) distinguishes normal from anomalous data points. This visualization helps in visually validating the effectiveness of anomaly detection techniques and identifying feature patterns associated with threats.\n"
   ]
  },
  {
   "cell_type": "code",
   "execution_count": 25,
   "id": "53b659f7",
   "metadata": {},
   "outputs": [
    {
     "data": {
      "image/png": "[encoded data removed]",
      "text/plain": [
       "<Figure size 1000x600 with 1 Axes>"
      ]
     },
     "metadata": {},
     "output_type": "display_data"
    }
   ],
   "source": [
    "\n",
    "plt.figure(figsize=(10, 6))\n",
    "sns.scatterplot(data=df, x='bytes_in', y='bytes_out', hue='anomaly', palette=['green', 'red'])\n",
    "plt.title('Anomalies in Bytes In vs Bytes Out')\n",
    "plt.show()"
   ]
  },
  {
   "cell_type": "markdown",
   "id": "bcd10528",
   "metadata": {},
   "source": [
    "#### 🕵️ What It Shows:\n",
    "This scatter plot highlights points classified as **anomalous** versus **normal** by the Isolation Forest model, plotted against selected features (e.g., `bytesin` vs. `bytesout`).\n",
    "\n",
    "#### ⚠️ Why It Matters:\n",
    "- Visually separates **outliers** (possible threats) from normal traffic.\n",
    "- Aids in validating whether the model is accurately identifying **unusual patterns** in web activity.\n",
    "- Critical for understanding and trusting your model's behavior before deployment.\n",
    "\n",
    "---\n"
   ]
  },
  {
   "cell_type": "markdown",
   "id": "480afc55",
   "metadata": {},
   "source": [
    "## 🤖 Classification using Random Forest\n",
    "We build a Random Forest model to classify requests into 'Suspicious' and 'Normal'.  \n",
    "Key outputs include:\n",
    "- Accuracy score\n",
    "- Classification report  \n",
    "Random Forest is chosen for its robustness and interpretability.\n"
   ]
  },
  {
   "cell_type": "code",
   "execution_count": 26,
   "id": "752ed0f5",
   "metadata": {},
   "outputs": [
    {
     "name": "stdout",
     "output_type": "stream",
     "text": [
      "Accuracy: 1.0\n",
      "\n",
      "Classification Report:\n",
      "               precision    recall  f1-score   support\n",
      "\n",
      "           1       1.00      1.00      1.00        85\n",
      "\n",
      "    accuracy                           1.00        85\n",
      "   macro avg       1.00      1.00      1.00        85\n",
      "weighted avg       1.00      1.00      1.00        85\n",
      "\n"
     ]
    }
   ],
   "source": [
    "df['is_suspicious'] = (df['detection_types'] == 'waf_rule').astype(int)\n",
    "X = df[['bytes_in', 'bytes_out', 'session_duration']]\n",
    "y = df['is_suspicious']\n",
    "X_train, X_test, y_train, y_test = train_test_split(X, y, test_size=0.3, random_state=42)\n",
    "rf_model = RandomForestClassifier(n_estimators=100, random_state=42)\n",
    "rf_model.fit(X_train, y_train)\n",
    "y_pred = rf_model.predict(X_test)\n",
    "print(\"Accuracy:\", accuracy_score(y_test, y_pred))\n",
    "print(\"\\nClassification Report:\\n\", classification_report(y_test, y_pred))"
   ]
  },
  {
   "cell_type": "markdown",
   "id": "cd6d7a2d",
   "metadata": {},
   "source": [
    "## 🤖 Neural Network Model\n",
    "We implement a basic Multi-layer Perceptron (MLP) for deep learning-based classification.  \n",
    "This helps in capturing complex non-linear patterns in the data.\n"
   ]
  },
  {
   "cell_type": "code",
   "execution_count": 27,
   "id": "410351d1",
   "metadata": {},
   "outputs": [
    {
     "name": "stdout",
     "output_type": "stream",
     "text": [
      "Accuracy: 1.0\n",
      "\n",
      "Classification Report:\n",
      "               precision    recall  f1-score   support\n",
      "\n",
      "           1       1.00      1.00      1.00        85\n",
      "\n",
      "    accuracy                           1.00        85\n",
      "   macro avg       1.00      1.00      1.00        85\n",
      "weighted avg       1.00      1.00      1.00        85\n",
      "\n"
     ]
    }
   ],
   "source": [
    "\n",
    "from sklearn.neural_network import MLPClassifier\n",
    "scaler = StandardScaler()\n",
    "X_scaled = scaler.fit_transform(X)\n",
    "X_train_mlp, X_test_mlp, y_train_mlp, y_test_mlp = train_test_split(X_scaled, y, test_size=0.3, random_state=42)\n",
    "mlp = MLPClassifier(hidden_layer_sizes=(16, 16), max_iter=300, random_state=42)\n",
    "mlp.fit(X_train_mlp, y_train_mlp)\n",
    "y_pred_mlp = mlp.predict(X_test_mlp)\n",
    "print(\"Accuracy:\", accuracy_score(y_test_mlp, y_pred_mlp))\n",
    "print(\"\\nClassification Report:\\n\", classification_report(y_test_mlp, y_pred_mlp))"
   ]
  },
  {
   "cell_type": "markdown",
   "id": "46eac70c",
   "metadata": {},
   "source": [
    "---\n",
    "\n",
    "# ✅ Final Conclusion\n",
    "\n",
    "Through this project, we successfully:\n",
    "\n",
    "- Processed and cleaned a web traffic dataset\n",
    "- Performed meaningful EDA and feature engineering\n",
    "- Detected anomalies using Isolation Forest\n",
    "- Built two classifiers (Random Forest and Neural Network) to distinguish between normal and suspicious activity\n",
    "\n",
    "💡 **Recommendation**: For real-time deployment, consider integrating this model with AWS Lambda and alerting pipelines for active monitoring of web threats.\n",
    "\n",
    "---\n",
    "\n",
    "🔐 This solution can be scaled further to handle larger datasets and integrated into cloud-based intrusion detection systems.\n"
   ]
  }
 ],
 "metadata": {
  "kernelspec": {
   "display_name": "Python 3",
   "language": "python",
   "name": "python3"
  },
  "language_info": {
   "codemirror_mode": {
    "name": "ipython",
    "version": 3
   },
   "file_extension": ".py",
   "mimetype": "text/x-python",
   "name": "python",
   "nbconvert_exporter": "python",
   "pygments_lexer": "ipython3",
   "version": "3.11.9"
  }
 },
 "nbformat": 4,
 "nbformat_minor": 5
}
